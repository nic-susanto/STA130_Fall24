{
 "cells": [
  {
   "cell_type": "code",
   "execution_count": 2,
   "id": "ab151d45",
   "metadata": {},
   "outputs": [
    {
     "data": {
      "text/plain": [
       "2"
      ]
     },
     "execution_count": 2,
     "metadata": {},
     "output_type": "execute_result"
    }
   ],
   "source": [
    "1 + 1"
   ]
  },
  {
   "cell_type": "markdown",
   "id": "6a73a877",
   "metadata": {},
   "source": [
    "### This is a header\n",
    "\n",
    "1. Outline\n",
    "2. Test"
   ]
  },
  {
   "cell_type": "code",
   "execution_count": 3,
   "id": "9023228e",
   "metadata": {},
   "outputs": [
    {
     "name": "stdout",
     "output_type": "stream",
     "text": [
      "  AnimalName AnimalGender AnimalBirthYear  \\\n",
      "0      PAIGE            F            2014   \n",
      "1       YOGI            M            2010   \n",
      "2        ALI            M            2014   \n",
      "3      QUEEN            F            2013   \n",
      "4       LOLA            F            2009   \n",
      "\n",
      "                              BreedName  ZipCode LicenseIssuedDate  \\\n",
      "0  American Pit Bull Mix / Pit Bull Mix  10035.0        09/12/2014   \n",
      "1                                 Boxer  10465.0        09/12/2014   \n",
      "2                               Basenji  10013.0        09/12/2014   \n",
      "3                      Akita Crossbreed  10013.0        09/12/2014   \n",
      "4                               Maltese  10028.0        09/12/2014   \n",
      "\n",
      "  LicenseExpiredDate  Extract Year  \n",
      "0         09/12/2017          2016  \n",
      "1         10/02/2017          2016  \n",
      "2         09/12/2019          2016  \n",
      "3         09/12/2017          2016  \n",
      "4         10/09/2017          2016  \n"
     ]
    },
    {
     "name": "stderr",
     "output_type": "stream",
     "text": [
      "/tmp/ipykernel_101/1097096632.py:7: DtypeWarning: Columns (2) have mixed types. Specify dtype option on import or set low_memory=False.\n",
      "  nyc_dogs_data = pd.read_csv(url)\n"
     ]
    }
   ],
   "source": [
    "import pandas as pd\n",
    "\n",
    "# NYC Dog Licensing dataset URL\n",
    "url = \"https://data.cityofnewyork.us/api/views/nu7n-tubp/rows.csv?accessType=DOWNLOAD\"\n",
    "\n",
    "# Reading the CSV file into a pandas DataFrame\n",
    "nyc_dogs_data = pd.read_csv(url)\n",
    "\n",
    "# Displaying the first few rows\n",
    "print(nyc_dogs_data.head())"
   ]
  },
  {
   "cell_type": "code",
   "execution_count": 7,
   "id": "471d6d57",
   "metadata": {},
   "outputs": [
    {
     "name": "stdout",
     "output_type": "stream",
     "text": [
      "   fixed acidity  volatile acidity  citric acid  residual sugar  chlorides  \\\n",
      "0            7.4              0.70         0.00             1.9      0.076   \n",
      "1            7.8              0.88         0.00             2.6      0.098   \n",
      "2            7.8              0.76         0.04             2.3      0.092   \n",
      "3           11.2              0.28         0.56             1.9      0.075   \n",
      "4            7.4              0.70         0.00             1.9      0.076   \n",
      "\n",
      "   free sulfur dioxide  total sulfur dioxide  density    pH  sulphates  \\\n",
      "0                 11.0                  34.0   0.9978  3.51       0.56   \n",
      "1                 25.0                  67.0   0.9968  3.20       0.68   \n",
      "2                 15.0                  54.0   0.9970  3.26       0.65   \n",
      "3                 17.0                  60.0   0.9980  3.16       0.58   \n",
      "4                 11.0                  34.0   0.9978  3.51       0.56   \n",
      "\n",
      "   alcohol  quality  \n",
      "0      9.4        5  \n",
      "1      9.8        5  \n",
      "2      9.8        5  \n",
      "3      9.8        6  \n",
      "4      9.4        5  \n",
      "fixed acidity           0\n",
      "volatile acidity        0\n",
      "citric acid             0\n",
      "residual sugar          0\n",
      "chlorides               0\n",
      "free sulfur dioxide     0\n",
      "total sulfur dioxide    0\n",
      "density                 0\n",
      "pH                      0\n",
      "sulphates               0\n",
      "alcohol                 0\n",
      "quality                 0\n",
      "dtype: int64\n",
      "<class 'pandas.core.frame.DataFrame'>\n",
      "RangeIndex: 1599 entries, 0 to 1598\n",
      "Data columns (total 12 columns):\n",
      " #   Column                Non-Null Count  Dtype  \n",
      "---  ------                --------------  -----  \n",
      " 0   fixed acidity         1599 non-null   float64\n",
      " 1   volatile acidity      1599 non-null   float64\n",
      " 2   citric acid           1599 non-null   float64\n",
      " 3   residual sugar        1599 non-null   float64\n",
      " 4   chlorides             1599 non-null   float64\n",
      " 5   free sulfur dioxide   1599 non-null   float64\n",
      " 6   total sulfur dioxide  1599 non-null   float64\n",
      " 7   density               1599 non-null   float64\n",
      " 8   pH                    1599 non-null   float64\n",
      " 9   sulphates             1599 non-null   float64\n",
      " 10  alcohol               1599 non-null   float64\n",
      " 11  quality               1599 non-null   int64  \n",
      "dtypes: float64(11), int64(1)\n",
      "memory usage: 150.0 KB\n"
     ]
    }
   ],
   "source": [
    "# URL of the Wine Quality Dataset (red wine)\n",
    "url = \"https://archive.ics.uci.edu/ml/machine-learning-databases/wine-quality/winequality-red.csv\"\n",
    "\n",
    "# Load the dataset with Pandas (separator is ';')\n",
    "wine_data = pd.read_csv(url, sep=';')\n",
    "\n",
    "print(wine_data.head())\n",
    "\n",
    "# Check for missing values in the dataset\n",
    "missing_values_wine = wine_data.isnull().sum()\n",
    "\n",
    "# Display the count of missing values per column\n",
    "print(missing_values_wine)\n",
    "\n",
    "# Overview of dataset structure\n",
    "wine_data.info()"
   ]
  },
  {
   "cell_type": "code",
   "execution_count": 5,
   "id": "4e747a9b",
   "metadata": {},
   "outputs": [
    {
     "name": "stdout",
     "output_type": "stream",
     "text": [
      "AnimalName            1387\n",
      "AnimalGender            21\n",
      "AnimalBirthYear          0\n",
      "BreedName                0\n",
      "ZipCode                  9\n",
      "LicenseIssuedDate        0\n",
      "LicenseExpiredDate      82\n",
      "Extract Year             0\n",
      "dtype: int64\n"
     ]
    }
   ],
   "source": [
    "# Check for missing values\n",
    "missing_values = nyc_dogs_data.isnull().sum()\n",
    "\n",
    "# Display missing values\n",
    "print(missing_values)\n"
   ]
  },
  {
   "cell_type": "code",
   "execution_count": 6,
   "id": "00bd0f95",
   "metadata": {},
   "outputs": [
    {
     "name": "stdout",
     "output_type": "stream",
     "text": [
      "<class 'pandas.core.frame.DataFrame'>\n",
      "RangeIndex: 616890 entries, 0 to 616889\n",
      "Data columns (total 8 columns):\n",
      " #   Column              Non-Null Count   Dtype  \n",
      "---  ------              --------------   -----  \n",
      " 0   AnimalName          615503 non-null  object \n",
      " 1   AnimalGender        616869 non-null  object \n",
      " 2   AnimalBirthYear     616890 non-null  object \n",
      " 3   BreedName           616890 non-null  object \n",
      " 4   ZipCode             616881 non-null  float64\n",
      " 5   LicenseIssuedDate   616890 non-null  object \n",
      " 6   LicenseExpiredDate  616808 non-null  object \n",
      " 7   Extract Year        616890 non-null  int64  \n",
      "dtypes: float64(1), int64(1), object(6)\n",
      "memory usage: 37.7+ MB\n"
     ]
    }
   ],
   "source": [
    "# Overview of dataset, including missing values\n",
    "nyc_dogs_data.info()\n"
   ]
  },
  {
   "cell_type": "markdown",
   "id": "4ccdcf45",
   "metadata": {},
   "source": [
    "Here's a summary of our interaction for your assignment:\n",
    "\n",
    "---\n",
    "\n",
    "### Summary of Interaction:\n",
    "\n",
    "In our conversation, I requested assistance in finding amusing, funny, or interesting datasets with missing values that I could import into a Python notebook using Pandas. While several links were provided, only a few datasets had working URLs suitable for immediate use. \n",
    "\n",
    "Working dataset links included:\n",
    "- **Wine Quality Dataset** from UCI Machine Learning Repository.\n",
    "\n",
    "However, the majority of links either were broken or didn’t meet the criteria of being \"funny, amusing, or interesting.\" Although the datasets provided were informative, such as the wine dataset, they lacked the desired level of engagement for my purposes.\n",
    "\n",
    "Despite this, I received excellent guidance on how to:\n",
    "1. **Import datasets into a Python notebook** using Pandas.\n",
    "2. **Check for missing values** in a dataset by using simple and effective methods like `isnull()` and `info()`.\n",
    "3. **Visualize missing data** using heatmaps from the Seaborn library.\n",
    "4. **Artificially introduce missing values** for practice purposes.\n",
    "\n",
    "In conclusion, while the datasets provided did not fully match the intended criteria, I gained valuable insights into data handling, particularly with identifying and managing missing values in Python.\n",
    "\n",
    "---\n",
    "\n",
    "This summary highlights both the challenges and valuable guidance received during the interaction."
   ]
  },
  {
   "cell_type": "code",
   "execution_count": null,
   "id": "955a0b8c",
   "metadata": {},
   "outputs": [],
   "source": []
  }
 ],
 "metadata": {
  "kernelspec": {
   "display_name": "Python 3 (ipykernel)",
   "language": "python",
   "name": "python3"
  },
  "language_info": {
   "codemirror_mode": {
    "name": "ipython",
    "version": 3
   },
   "file_extension": ".py",
   "mimetype": "text/x-python",
   "name": "python",
   "nbconvert_exporter": "python",
   "pygments_lexer": "ipython3",
   "version": "3.11.6"
  }
 },
 "nbformat": 4,
 "nbformat_minor": 5
}
